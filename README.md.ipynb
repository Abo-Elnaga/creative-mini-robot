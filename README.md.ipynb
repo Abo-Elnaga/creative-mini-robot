{
 "cells": [
  {
   "cell_type": "markdown",
   "id": "f5e53a63-4a3f-4ef8-8127-b3eba1e31f79",
   "metadata": {},
   "source": [
    "# 🤖 Mini Logic-Based Robot\n",
    "\n",
    "This is a creative mini robot project built using only basic hardware components — no microcontrollers or programming involved. The robot moves randomly when powered, and the structure is designed using concepts from dynamics, trigonometry, and geometry.\n",
    "\n",
    "---\n",
    "\n",
    "##  Project Idea\n",
    "\n",
    "The goal of this project is to demonstrate how a combination of simple tools and solid engineering knowledge can lead to a functional and artistic robotic system.\n",
    "\n",
    "The robot uses:\n",
    "- Logic-based movement (no code)\n",
    "- Aesthetically calculated body shape\n",
    "- Controlled power flow to drive random motion\n",
    "\n",
    "---\n",
    "\n",
    "## 🧰 Components Used\n",
    "\n",
    "- Toy car motor\n",
    "- Switches (logic switches)\n",
    "- Batteries\n",
    "- Wires\n",
    "- Basic connectors\n",
    "- Plastic or sheet metal body (custom-designed)\n",
    "\n",
    "---\n",
    "\n",
    "## 📐 Applied Concepts\n",
    "\n",
    "- Trigonometry – to determine shape and motion angles\n",
    "- Geometry – for symmetrical and balanced design\n",
    "- Dynamics – for movement calculations and flow\n",
    "- Basic logic circuits – to control power to motors\n",
    "\n",
    "---\n",
    "\n",
    "## 🎬 Demo Video\n",
    "\n",
    "📹 **Demo video duration**: 33 seconds  "
   ]
  }
 ],
 "metadata": {
  "kernelspec": {
   "display_name": "Python 3 (ipykernel)",
   "language": "python",
   "name": "python3"
  },
  "language_info": {
   "codemirror_mode": {
    "name": "ipython",
    "version": 3
   },
   "file_extension": ".py",
   "mimetype": "text/x-python",
   "name": "python",
   "nbconvert_exporter": "python",
   "pygments_lexer": "ipython3",
   "version": "3.12.4"
  }
 },
 "nbformat": 4,
 "nbformat_minor": 5
}
