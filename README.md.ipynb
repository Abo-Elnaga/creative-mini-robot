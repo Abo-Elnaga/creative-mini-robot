{
 "cells": [
  {
   "cell_type": "markdown",
   "id": "f5e53a63-4a3f-4ef8-8127-b3eba1e31f79",
   "metadata": {},
   "source": [
    "# 🤖 Mini Logic-Based Robot\r\n",
    "\r\n",
    "This is a creative mini robot project built using only basic hardware components — no microcontrollers or programming involved. The robot moves randomly when powered, and the structure is designed using concepts from dynamics, trigonometry, and geometry.\r\n",
    "\r\n",
    "---\r\n",
    "\r\n",
    "## 📌 Project Idea\r\n",
    "\r\n",
    "The goal of this project is to demonstrate how a combination of simple tools and solid engineering knowledge can lead to a functional and artistic robotic system.\r\n",
    "\r\n",
    "The robot uses:\r\n",
    "- Logic-based movement (no code)\r\n",
    "- Aesthetically calculated body shape\r\n",
    "- Controlled power flow to drive random motion\r\n",
    "\r\n",
    "---\r\n",
    "\r\n",
    "## 🧰 Components Used\r\n",
    "\r\n",
    "- Toy car motor\r\n",
    "- Switches (logic switches)\r\n",
    "- Batteries\r\n",
    "- Wires\r\n",
    "- Basic connectors\r\n",
    "- Plastic or sheet metal body (custom-designed)\r\n",
    "\r\n",
    "---\r\n",
    "\r\n",
    "## 📐 Applied Concepts\r\n",
    "\r\n",
    "- Trigonometry – to determine shape and motion angles\r\n",
    "- Geometry – for symmetrical and balanced design\r\n",
    "- Dynamics – for movement calculations and flow\r\n",
    "- Basic logic circuits – to control power to motors\r\n",
    "\r\n",
    "---\r\n",
    "\r\n",
    "## 🎬 Demo Video\r\n",
    "\r\n",
    "📹 **Demo video duration**: 33 seconds  \r\n",
    
   ]
  },
  {
   "cell_type": "code",
   "execution_count": null,
   "id": "066bf741-018f-4b36-990b-88bfb594bdb3",
   "metadata": {},
   "outputs": [],
   "source": []
  }
 ],
 "metadata": {
  "kernelspec": {
   "display_name": "Python 3 (ipykernel)",
   "language": "python",
   "name": "python3"
  },
  "language_info": {
   "codemirror_mode": {
    "name": "ipython",
    "version": 3
   },
   "file_extension": ".py",
   "mimetype": "text/x-python",
   "name": "python",
   "nbconvert_exporter": "python",
   "pygments_lexer": "ipython3",
   "version": "3.12.4"
  }

